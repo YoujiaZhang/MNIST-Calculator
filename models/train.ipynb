{
 "cells": [
  {
   "cell_type": "code",
   "execution_count": 1,
   "metadata": {},
   "outputs": [
    {
     "name": "stdout",
     "output_type": "stream",
     "text": [
      "正在载入 plus 运算符...\n"
     ]
    },
    {
     "name": "stderr",
     "output_type": "stream",
     "text": [
      "100%|██████████| 5059/5059 [00:21<00:00, 230.02it/s]\n"
     ]
    },
    {
     "name": "stdout",
     "output_type": "stream",
     "text": [
      "正在载入 sub 运算符...\n"
     ]
    },
    {
     "name": "stderr",
     "output_type": "stream",
     "text": [
      "100%|██████████| 6500/6500 [01:20<00:00, 81.24it/s]\n"
     ]
    },
    {
     "name": "stdout",
     "output_type": "stream",
     "text": [
      "正在载入 mul 运算符...\n"
     ]
    },
    {
     "name": "stderr",
     "output_type": "stream",
     "text": [
      "100%|██████████| 5102/5102 [01:42<00:00, 49.97it/s]\n"
     ]
    },
    {
     "name": "stdout",
     "output_type": "stream",
     "text": [
      "正在载入 div 运算符...\n"
     ]
    },
    {
     "name": "stderr",
     "output_type": "stream",
     "text": [
      "100%|██████████| 4234/4234 [01:51<00:00, 37.97it/s]\n"
     ]
    },
    {
     "name": "stdout",
     "output_type": "stream",
     "text": [
      "正在载入 ( 运算符...\n"
     ]
    },
    {
     "name": "stderr",
     "output_type": "stream",
     "text": [
      "100%|██████████| 6500/6500 [03:39<00:00, 29.56it/s]\n"
     ]
    },
    {
     "name": "stdout",
     "output_type": "stream",
     "text": [
      "正在载入 ) 运算符...\n"
     ]
    },
    {
     "name": "stderr",
     "output_type": "stream",
     "text": [
      "100%|██████████| 6500/6500 [04:40<00:00, 23.19it/s]\n"
     ]
    }
   ],
   "source": [
    "from tqdm import tqdm\n",
    "import numpy as np\n",
    "import queue\n",
    "import cv2\n",
    "import os\n",
    "\n",
    "def getListFiles(path):\n",
    "    ret = []\n",
    "    for root, dirs, files in os.walk(path):  \n",
    "        for filespath in files:\n",
    "            ret.append(os.path.join(root,filespath)) \n",
    "    return ret\n",
    "\n",
    "def get_images_labels():\n",
    "    operators = ['plus', 'sub', 'mul', 'div', '(', ')']\n",
    "    images = None\n",
    "    labels = None\n",
    "    for i, op in enumerate(operators):\n",
    "        image_file_list = getListFiles('./cfs/' + op + '/')\n",
    "        print('正在载入 ' + op + ' 运算符...')\n",
    "        for filename in tqdm(image_file_list):\n",
    "            image = cv2.imread(filename, 2)\n",
    "            if image.shape != (28, 28):\n",
    "                image = cv2.resize(image, (28, 28))\n",
    "            image = np.resize(image, (1, 28 * 28))\n",
    "            image = (255 - image) / 255\n",
    "            label = np.zeros((1, 10 + len(operators)))\n",
    "            label[0][10 + i] = 1\n",
    "            if images is None:\n",
    "                images = image\n",
    "                labels = label\n",
    "            else:\n",
    "                images = np.r_[images, image]\n",
    "                labels = np.r_[labels, label]\n",
    "    return images, labels\n",
    "\n",
    "op_images, op_labels = get_images_labels()\n",
    "op_images = op_images.reshape(-1,28,28)"
   ]
  },
  {
   "cell_type": "code",
   "execution_count": 2,
   "metadata": {},
   "outputs": [],
   "source": [
    "from keras.datasets import mnist\n",
    "from matplotlib import pyplot\n",
    "import numpy as np\n",
    "(trainX, trainY), (testX, testY) = mnist.load_data()\n",
    "\n",
    "trainX = trainX.astype(\"float32\")\n",
    "testX = testX.astype(\"float32\")\n",
    "trainX = trainX/255.0\n",
    "testX = testX/255.0\n",
    "\n",
    "from tensorflow.keras.utils import to_categorical\n",
    "trainY = to_categorical(trainY, 16)\n",
    "testY = to_categorical(testY, 16)"
   ]
  },
  {
   "cell_type": "code",
   "execution_count": 3,
   "metadata": {},
   "outputs": [
    {
     "name": "stdout",
     "output_type": "stream",
     "text": [
      "所有训练数据： (103895, 28, 28, 1)\n",
      "所有标签数据： (103895, 16)\n"
     ]
    }
   ],
   "source": [
    "dataset   = np.vstack((op_images, trainX, testX))\n",
    "datalabel = np.vstack((op_labels, trainY, testY))\n",
    "\n",
    "dataset = dataset.reshape(-1,28,28,1)\n",
    "print('所有训练数据：',dataset.shape)\n",
    "print('所有标签数据：',datalabel.shape)"
   ]
  },
  {
   "cell_type": "code",
   "execution_count": 4,
   "metadata": {},
   "outputs": [
    {
     "name": "stdout",
     "output_type": "stream",
     "text": [
      "训练数据： (93505, 28, 28, 1) (93505, 16)\n",
      "测试数据： (10390, 28, 28, 1) (10390, 16)\n"
     ]
    }
   ],
   "source": [
    "from sklearn.model_selection import train_test_split\n",
    "\n",
    "trainX, testX, trainY, testY = train_test_split(dataset,datalabel,test_size=0.1, random_state=0)\n",
    "print('训练数据：',trainX.shape, trainY.shape)\n",
    "print('测试数据：',testX.shape, testY.shape)"
   ]
  },
  {
   "cell_type": "code",
   "execution_count": 5,
   "metadata": {},
   "outputs": [
    {
     "name": "stdout",
     "output_type": "stream",
     "text": [
      "Model: \"sequential\"\n",
      "_________________________________________________________________\n",
      "Layer (type)                 Output Shape              Param #   \n",
      "=================================================================\n",
      "conv2d (Conv2D)              (None, 26, 26, 28)        280       \n",
      "_________________________________________________________________\n",
      "conv2d_1 (Conv2D)            (None, 24, 24, 28)        7084      \n",
      "_________________________________________________________________\n",
      "conv2d_2 (Conv2D)            (None, 22, 22, 28)        7084      \n",
      "_________________________________________________________________\n",
      "max_pooling2d (MaxPooling2D) (None, 11, 11, 28)        0         \n",
      "_________________________________________________________________\n",
      "flatten (Flatten)            (None, 3388)              0         \n",
      "_________________________________________________________________\n",
      "dense (Dense)                (None, 256)               867584    \n",
      "_________________________________________________________________\n",
      "dense_1 (Dense)              (None, 16)                4112      \n",
      "=================================================================\n",
      "Total params: 886,144\n",
      "Trainable params: 886,144\n",
      "Non-trainable params: 0\n",
      "_________________________________________________________________\n"
     ]
    }
   ],
   "source": [
    "from tensorflow.keras.models import Sequential\n",
    "from tensorflow.keras.layers import Conv2D\n",
    "from tensorflow.keras.layers import MaxPooling2D\n",
    "from tensorflow.keras.layers import Dense\n",
    "from tensorflow.keras.layers import Flatten\n",
    "\n",
    "model = Sequential()\n",
    "model.add(Conv2D(28, (3, 3), activation='relu', input_shape=(28, 28, 1)))\n",
    "model.add(Conv2D(28, (3, 3), activation='relu'))\n",
    "model.add(Conv2D(28, (3, 3), activation='relu'))\n",
    "model.add(MaxPooling2D((2, 2)))\n",
    "model.add(Flatten())\n",
    "model.add(Dense(256, activation='relu'))\n",
    "model.add(Dense(16,  activation='softmax'))\n",
    "\n",
    "model.compile(optimizer='adam', loss='categorical_crossentropy', metrics=['accuracy'])\n",
    "model.summary()"
   ]
  },
  {
   "cell_type": "code",
   "execution_count": 6,
   "metadata": {},
   "outputs": [
    {
     "name": "stdout",
     "output_type": "stream",
     "text": [
      "Epoch 1/10\n",
      "1462/1462 [==============================] - 16s 10ms/step - loss: 0.1171 - accuracy: 0.9656 - val_loss: 0.0436 - val_accuracy: 0.9861\n",
      "Epoch 2/10\n",
      "1462/1462 [==============================] - 13s 9ms/step - loss: 0.0325 - accuracy: 0.9900 - val_loss: 0.0352 - val_accuracy: 0.9891\n",
      "Epoch 3/10\n",
      "1462/1462 [==============================] - 13s 9ms/step - loss: 0.0205 - accuracy: 0.9935 - val_loss: 0.0379 - val_accuracy: 0.9901\n",
      "Epoch 4/10\n",
      "1462/1462 [==============================] - 13s 9ms/step - loss: 0.0159 - accuracy: 0.9951 - val_loss: 0.0329 - val_accuracy: 0.9913\n",
      "Epoch 5/10\n",
      "1462/1462 [==============================] - 13s 9ms/step - loss: 0.0108 - accuracy: 0.9965 - val_loss: 0.0311 - val_accuracy: 0.9920\n",
      "Epoch 6/10\n",
      "1462/1462 [==============================] - 13s 9ms/step - loss: 0.0086 - accuracy: 0.9972 - val_loss: 0.0349 - val_accuracy: 0.9920\n",
      "Epoch 7/10\n",
      "1462/1462 [==============================] - 13s 9ms/step - loss: 0.0073 - accuracy: 0.9976 - val_loss: 0.0394 - val_accuracy: 0.9926\n",
      "Epoch 8/10\n",
      "1462/1462 [==============================] - 13s 9ms/step - loss: 0.0074 - accuracy: 0.9976 - val_loss: 0.0317 - val_accuracy: 0.9924\n",
      "Epoch 9/10\n",
      "1462/1462 [==============================] - 13s 9ms/step - loss: 0.0045 - accuracy: 0.9984 - val_loss: 0.0431 - val_accuracy: 0.9912\n",
      "Epoch 10/10\n",
      "1462/1462 [==============================] - 13s 9ms/step - loss: 0.0045 - accuracy: 0.9986 - val_loss: 0.0384 - val_accuracy: 0.9928\n"
     ]
    },
    {
     "data": {
      "text/plain": [
       "<keras.callbacks.History at 0x7f7f14031fd0>"
      ]
     },
     "execution_count": 6,
     "metadata": {},
     "output_type": "execute_result"
    }
   ],
   "source": [
    "model.fit(trainX, trainY ,batch_size=64 ,epochs = 10 ,verbose=1,validation_data=(testX, testY))"
   ]
  },
  {
   "cell_type": "code",
   "execution_count": 10,
   "metadata": {},
   "outputs": [
    {
     "name": "stdout",
     "output_type": "stream",
     "text": [
      "predicted value is 1\n"
     ]
    },
    {
     "data": {
      "image/png": "[encoded data removed]",
      "text/plain": [
       "<Figure size 432x288 with 1 Axes>"
      ]
     },
     "metadata": {
      "needs_background": "light"
     },
     "output_type": "display_data"
    }
   ],
   "source": [
    "import random\n",
    "pixels = testX[random.randint(0,len(testX)-1)]\n",
    "pixels = np.expand_dims(pixels, axis=0)\n",
    "pyplot.imshow(pixels.reshape(28,28),cmap='gray')\n",
    "prediction = model.predict(pixels)\n",
    "index = np.argmax(prediction[0])\n",
    "print(\"predicted value is \"+str(index))"
   ]
  },
  {
   "cell_type": "code",
   "execution_count": 11,
   "metadata": {},
   "outputs": [],
   "source": [
    "# 保存模型\n",
    "model.save('model.h5')"
   ]
  },
  {
   "cell_type": "code",
   "execution_count": 12,
   "metadata": {},
   "outputs": [],
   "source": [
    "import tensorflow as tf\n",
    "new_model = tf.keras.models.load_model('model.h5')"
   ]
  },
  {
   "cell_type": "code",
   "execution_count": 26,
   "metadata": {},
   "outputs": [
    {
     "name": "stdout",
     "output_type": "stream",
     "text": [
      "predicted value is 6 1.0\n"
     ]
    },
    {
     "data": {
      "image/png": "[encoded data removed]",
      "text/plain": [
       "<Figure size 432x288 with 1 Axes>"
      ]
     },
     "metadata": {
      "needs_background": "light"
     },
     "output_type": "display_data"
    }
   ],
   "source": [
    "import random\n",
    "import copy\n",
    "pixels = testX[random.randint(0,len(testX)-1)]\n",
    "pixels = np.expand_dims(pixels, axis=0)\n",
    "pyplot.imshow(pixels.reshape(28,28), cmap='gray')\n",
    "pixels = pixels.reshape(-1,28,28,1)\n",
    "\n",
    "prediction = new_model.predict(pixels)\n",
    "index = np.argmax(prediction[0])\n",
    "print(\"predicted value is \"+str(index), prediction[0][index])"
   ]
  }
 ],
 "metadata": {
  "interpreter": {
   "hash": "31f2aee4e71d21fbe5cf8b01ff0e069b9275f58929596ceb00d14d90e3e16cd6"
  },
  "kernelspec": {
   "display_name": "Python 3.6.9 64-bit",
   "name": "python3"
  },
  "language_info": {
   "codemirror_mode": {
    "name": "ipython",
    "version": 3
   },
   "file_extension": ".py",
   "mimetype": "text/x-python",
   "name": "python",
   "nbconvert_exporter": "python",
   "pygments_lexer": "ipython3",
   "version": "3.6.9"
  },
  "orig_nbformat": 4
 },
 "nbformat": 4,
 "nbformat_minor": 2
}
